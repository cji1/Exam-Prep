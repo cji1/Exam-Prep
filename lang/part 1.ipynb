{
 "cells": [
  {
   "cell_type": "markdown",
   "metadata": {},
   "source": [
    "part (a)\n"
   ]
  },
  {
   "cell_type": "code",
   "execution_count": 1,
   "metadata": {},
   "outputs": [
    {
     "data": {
      "text/plain": [
       "array([(1937,   1, 30.226), (1937,   2, 52.832), (1937,   3, 10.668), ...,\n",
       "       (2012, 364,  4.318), (2012, 365,  0.   ), (2012, 366,  0.   )],\n",
       "      dtype=[('year', '<i4'), ('day_of_year', '<i4'), ('rainfall_mmday', '<f8')])"
      ]
     },
     "execution_count": 1,
     "metadata": {},
     "output_type": "execute_result"
    }
   ],
   "source": [
    "# import data into a numpy array\n",
    "\n",
    "import numpy as np\n",
    "\n",
    "data_array = np.genfromtxt(\"python_language_1_data.csv\", delimiter=\",\", names=True,\n",
    "                            dtype=[int, int, float])\n",
    "\n",
    "data_array"
   ]
  },
  {
   "cell_type": "code",
   "execution_count": 2,
   "metadata": {},
   "outputs": [
    {
     "data": {
      "text/plain": [
       "array([1937, 1937, 1937, ..., 2012, 2012, 2012])"
      ]
     },
     "execution_count": 2,
     "metadata": {},
     "output_type": "execute_result"
    }
   ],
   "source": [
    "data_array['year']"
   ]
  },
  {
   "cell_type": "code",
   "execution_count": 3,
   "metadata": {},
   "outputs": [
    {
     "data": {
      "text/plain": [
       "array([30.226, 52.832, 10.668, ...,  4.318,  0.   ,  0.   ])"
      ]
     },
     "execution_count": 3,
     "metadata": {},
     "output_type": "execute_result"
    }
   ],
   "source": [
    "rainfall = \"rainfall_mmday\"\n",
    "data_array[rainfall]"
   ]
  },
  {
   "cell_type": "code",
   "execution_count": 4,
   "metadata": {},
   "outputs": [
    {
     "data": {
      "text/plain": [
       "1937"
      ]
     },
     "execution_count": 4,
     "metadata": {},
     "output_type": "execute_result"
    }
   ],
   "source": [
    "# store end years\n",
    "\n",
    "first_year = data_array[0][0]\n",
    "last_year = data_array[-1][0]\n",
    "first_year"
   ]
  },
  {
   "cell_type": "code",
   "execution_count": 6,
   "metadata": {},
   "outputs": [],
   "source": [
    "# create a year key for dictionary\n",
    "\n",
    "year_tuple = tuple(range(first_year, last_year + 1))"
   ]
  },
  {
   "cell_type": "code",
   "execution_count": 7,
   "metadata": {},
   "outputs": [
    {
     "data": {
      "text/plain": [
       "{1937: [],\n",
       " 1938: [],\n",
       " 1939: [],\n",
       " 1940: [],\n",
       " 1941: [],\n",
       " 1942: [],\n",
       " 1943: [],\n",
       " 1944: [],\n",
       " 1945: [],\n",
       " 1946: [],\n",
       " 1947: [],\n",
       " 1948: [],\n",
       " 1949: [],\n",
       " 1950: [],\n",
       " 1951: [],\n",
       " 1952: [],\n",
       " 1953: [],\n",
       " 1954: [],\n",
       " 1955: [],\n",
       " 1956: [],\n",
       " 1957: [],\n",
       " 1958: [],\n",
       " 1959: [],\n",
       " 1960: [],\n",
       " 1961: [],\n",
       " 1962: [],\n",
       " 1963: [],\n",
       " 1964: [],\n",
       " 1965: [],\n",
       " 1966: [],\n",
       " 1967: [],\n",
       " 1968: [],\n",
       " 1969: [],\n",
       " 1970: [],\n",
       " 1971: [],\n",
       " 1972: [],\n",
       " 1973: [],\n",
       " 1974: [],\n",
       " 1975: [],\n",
       " 1976: [],\n",
       " 1977: [],\n",
       " 1978: [],\n",
       " 1979: [],\n",
       " 1980: [],\n",
       " 1981: [],\n",
       " 1982: [],\n",
       " 1983: [],\n",
       " 1984: [],\n",
       " 1985: [],\n",
       " 1986: [],\n",
       " 1987: [],\n",
       " 1988: [],\n",
       " 1989: [],\n",
       " 1990: [],\n",
       " 1991: [],\n",
       " 1992: [],\n",
       " 1993: [],\n",
       " 1994: [],\n",
       " 1995: [],\n",
       " 1996: [],\n",
       " 1997: [],\n",
       " 1998: [],\n",
       " 1999: [],\n",
       " 2000: [],\n",
       " 2001: [],\n",
       " 2002: [],\n",
       " 2003: [],\n",
       " 2004: [],\n",
       " 2005: [],\n",
       " 2006: [],\n",
       " 2007: [],\n",
       " 2008: [],\n",
       " 2009: [],\n",
       " 2010: [],\n",
       " 2011: [],\n",
       " 2012: []}"
      ]
     },
     "execution_count": 7,
     "metadata": {},
     "output_type": "execute_result"
    }
   ],
   "source": [
    "# create dictionary, with year keys and empty list values\n",
    "data_dic = {}\n",
    "\n",
    "for year in year_tuple:\n",
    "    data_dic[year] = []    \n",
    "\n",
    "data_dic"
   ]
  },
  {
   "cell_type": "code",
   "execution_count": 25,
   "metadata": {},
   "outputs": [],
   "source": [
    "# iterate through rows, adding rainfall data to appropriate year list of dictionary\n",
    "\n",
    "for day in range(data_array.size):\n",
    "    data_dic[data_array[day][0]] += data_array[day][2]"
   ]
  },
  {
   "cell_type": "code",
   "execution_count": 26,
   "metadata": {},
   "outputs": [
    {
     "name": "stdout",
     "output_type": "stream",
     "text": [
      "[]\n"
     ]
    }
   ],
   "source": [
    "print(data_dic[1938])"
   ]
  },
  {
   "cell_type": "code",
   "execution_count": 10,
   "metadata": {},
   "outputs": [
    {
     "data": {
      "text/plain": [
       "['c', 'h', 'e', 'e', 's', 'e']"
      ]
     },
     "execution_count": 10,
     "metadata": {},
     "output_type": "execute_result"
    }
   ],
   "source": [
    "test_dic = {1:[], 2:[], 3:[]}\n",
    "test_list = []\n",
    "test_list += \"cheese\"\n",
    "test_list"
   ]
  },
  {
   "cell_type": "code",
   "execution_count": 11,
   "metadata": {},
   "outputs": [
    {
     "data": {
      "text/plain": [
       "{1: ['c', 'h', 'e', 'e', 's', 'e'], 2: [], 3: []}"
      ]
     },
     "execution_count": 11,
     "metadata": {},
     "output_type": "execute_result"
    }
   ],
   "source": [
    "test_dic[1] += test_list\n",
    "test_dic"
   ]
  },
  {
   "cell_type": "code",
   "execution_count": 12,
   "metadata": {},
   "outputs": [
    {
     "data": {
      "text/plain": [
       "array([[1.920e+03, 1.000e+00, 1.240e+01],\n",
       "       [1.920e+03, 2.000e+00, 0.000e+00],\n",
       "       [1.921e+03, 3.000e+00, 4.200e+00]])"
      ]
     },
     "execution_count": 12,
     "metadata": {},
     "output_type": "execute_result"
    }
   ],
   "source": [
    "test_array = np.array([(1920, 1, 12.4), (1920, 2, 0), (1921, 3, 4.2)])\n",
    "test_array"
   ]
  },
  {
   "cell_type": "code",
   "execution_count": 13,
   "metadata": {},
   "outputs": [
    {
     "name": "stdout",
     "output_type": "stream",
     "text": [
      "[1.92e+03 1.00e+00 1.24e+01]\n",
      "[1920.    2.    0.]\n",
      "[1921.     3.     4.2]\n"
     ]
    }
   ],
   "source": [
    "for day in test_array:\n",
    "    print(day)"
   ]
  },
  {
   "cell_type": "code",
   "execution_count": 14,
   "metadata": {},
   "outputs": [
    {
     "data": {
      "text/plain": [
       "array([[1.920e+03, 1.000e+00, 1.240e+01],\n",
       "       [1.920e+03, 2.000e+00, 0.000e+00],\n",
       "       [1.921e+03, 3.000e+00, 4.200e+00]])"
      ]
     },
     "execution_count": 14,
     "metadata": {},
     "output_type": "execute_result"
    }
   ],
   "source": [
    "test_list_2 = [(1920, 1, 12.4), (1920, 2, 0), (1921, 3, 4.2)]\n",
    "test_array_2 = np.array(test_list_2)\n",
    "test_array_2"
   ]
  },
  {
   "cell_type": "code",
   "execution_count": 21,
   "metadata": {},
   "outputs": [
    {
     "data": {
      "text/plain": [
       "76.05205479452054"
      ]
     },
     "execution_count": 21,
     "metadata": {},
     "output_type": "execute_result"
    }
   ],
   "source": [
    "data_array.size\n"
   ]
  },
  {
   "cell_type": "code",
   "execution_count": null,
   "metadata": {},
   "outputs": [],
   "source": []
  }
 ],
 "metadata": {
  "kernelspec": {
   "display_name": "Python 3",
   "language": "python",
   "name": "python3"
  },
  "language_info": {
   "codemirror_mode": {
    "name": "ipython",
    "version": 3
   },
   "file_extension": ".py",
   "mimetype": "text/x-python",
   "name": "python",
   "nbconvert_exporter": "python",
   "pygments_lexer": "ipython3",
   "version": "3.6.5"
  }
 },
 "nbformat": 4,
 "nbformat_minor": 2
}
